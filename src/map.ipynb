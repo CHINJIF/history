{
 "cells": [
  {
   "cell_type": "markdown",
   "metadata": {},
   "source": [
    "![img](img/timeline.png)\n",
    "![img](img/jerusalem_timeline.png)\n",
    "![img](img/neo_assyria.png)\n",
    "![img](img/assyria.png)\n",
    "![img](img/UR_III_.png)\n",
    "![img](img/sumer.png)\n",
    "![img](img/sumer_cn.png)\n",
    "![img](img/kingdom_of_israel.png)\n",
    "![img](img/persian_I.png)\n",
    "![img](img/Macedonia.png)\n",
    "![img](img/greek_persian_war.png)"
   ]
  },
  {
   "cell_type": "code",
   "execution_count": null,
   "metadata": {
    "collapsed": true
   },
   "outputs": [],
   "source": []
  }
 ],
 "metadata": {
  "kernelspec": {
   "display_name": "Python 2",
   "language": "python",
   "name": "python2"
  },
  "language_info": {
   "codemirror_mode": {
    "name": "ipython",
    "version": 2
   },
   "file_extension": ".py",
   "mimetype": "text/x-python",
   "name": "python",
   "nbconvert_exporter": "python",
   "pygments_lexer": "ipython2",
   "version": "2.7.11"
  }
 },
 "nbformat": 4,
 "nbformat_minor": 0
}
